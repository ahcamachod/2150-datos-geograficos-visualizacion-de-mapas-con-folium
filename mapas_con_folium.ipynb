{
  "nbformat": 4,
  "nbformat_minor": 0,
  "metadata": {
    "colab": {
      "provenance": [],
      "authorship_tag": "ABX9TyP1cyvsrFvSVP3xln21fsTX",
      "include_colab_link": true
    },
    "kernelspec": {
      "name": "python3",
      "display_name": "Python 3"
    },
    "language_info": {
      "name": "python"
    }
  },
  "cells": [
    {
      "cell_type": "markdown",
      "metadata": {
        "id": "view-in-github",
        "colab_type": "text"
      },
      "source": [
        "<a href=\"https://colab.research.google.com/github/ahcamachod/2150-datos-geograficos-visualizacion-de-mapas-con-folium/blob/aula-2/mapas_con_folium.ipynb\" target=\"_parent\"><img src=\"https://colab.research.google.com/assets/colab-badge.svg\" alt=\"Open In Colab\"/></a>"
      ]
    },
    {
      "cell_type": "markdown",
      "source": [
        "#**CLASE 1**"
      ],
      "metadata": {
        "id": "nuIW-VLpGLpJ"
      }
    },
    {
      "cell_type": "code",
      "source": [
        "!pip install geopandas"
      ],
      "metadata": {
        "id": "XlVDGw2dLjeM"
      },
      "execution_count": null,
      "outputs": []
    },
    {
      "cell_type": "code",
      "source": [
        "import geopandas as gpd\n",
        "\n",
        "gpd.__version__"
      ],
      "metadata": {
        "id": "Gj-q0S96MTuK"
      },
      "execution_count": null,
      "outputs": []
    },
    {
      "cell_type": "code",
      "source": [
        "rj = gpd.read_file('/content/33SEE250GC_SIR.shp')\n",
        "rj.head()"
      ],
      "metadata": {
        "id": "cktFJrcrMccC"
      },
      "execution_count": null,
      "outputs": []
    },
    {
      "cell_type": "code",
      "source": [
        "rj.plot();"
      ],
      "metadata": {
        "id": "rd1EH3PMM8KD"
      },
      "execution_count": null,
      "outputs": []
    },
    {
      "cell_type": "code",
      "source": [
        "rj = rj[rj['NM_MUNICIP']=='RIO DE JANEIRO']\n",
        "rj.plot();"
      ],
      "metadata": {
        "id": "9c_7X2itNWRe"
      },
      "execution_count": null,
      "outputs": []
    },
    {
      "cell_type": "code",
      "source": [
        "import folium"
      ],
      "metadata": {
        "id": "8N84Eq0sVNUi"
      },
      "execution_count": null,
      "outputs": []
    },
    {
      "cell_type": "code",
      "source": [
        "mapa_rio = folium.Map(location=[-22.95,-43.4],\n",
        "                      zoom_start=10,\n",
        "                      tile='OpenStreetMap')\n",
        "mapa_rio"
      ],
      "metadata": {
        "id": "QDLTOrdsY-zs"
      },
      "execution_count": null,
      "outputs": []
    },
    {
      "cell_type": "code",
      "source": [
        "mapa_rio = folium.Map(location=[-22.95,-43.4],\n",
        "                      zoom_start=10,\n",
        "                      tile='OpenStreetMap')\n",
        "\n",
        "folium.TileLayer('cartodbpositron',name='Positron').add_to(mapa_rio)\n",
        "folium.TileLayer('cartodbdark_matter',name='Dark').add_to(mapa_rio)\n",
        "folium.TileLayer('https://{s}.tile-cyclosm.openstreetmap.fr/cyclosm/{z}/{x}/{y}.png',name='CyclOSM',\n",
        "                 attr='<a href=\"https://github.com/cyclosm/cyclosm-cartocss-style/releases\" title=\"CyclOSM - Open Bicycle render\">CyclOSM</a> | Map data: &copy; <a href=\"https://www.openstreetmap.org/copyright\">OpenStreetMap</a> contributors').add_to(mapa_rio)\n",
        "\n",
        "folium.LayerControl().add_to(mapa_rio)\n",
        "\n",
        "mapa_rio.save('mapa_rio.html')\n",
        "\n",
        "mapa_rio"
      ],
      "metadata": {
        "id": "CpFER_YcZYnU"
      },
      "execution_count": null,
      "outputs": []
    },
    {
      "cell_type": "markdown",
      "source": [
        "https://leaflet-extras.github.io/leaflet-providers/preview/"
      ],
      "metadata": {
        "id": "bI9QL9h9dFxR"
      }
    },
    {
      "cell_type": "code",
      "source": [
        "barrios = rj.dissolve(by='NM_BAIRRO')\n",
        "barrios"
      ],
      "metadata": {
        "id": "JC2w4qazcPUK"
      },
      "execution_count": null,
      "outputs": []
    },
    {
      "cell_type": "code",
      "source": [
        "mapa_rio = folium.Map(location=[-22.95,-43.4],\n",
        "                      zoom_start=10,\n",
        "                      tile='cartodbpositron')\n",
        "\n",
        "folium.GeoJson(barrios).add_to(mapa_rio)\n",
        "mapa_rio"
      ],
      "metadata": {
        "id": "lB6G9Iezdmzr"
      },
      "execution_count": null,
      "outputs": []
    },
    {
      "cell_type": "code",
      "source": [
        "ciudad = rj.dissolve(by='NM_MUNICIP')\n",
        "mapa_rio = folium.Map(location=[-22.95,-43.4],\n",
        "                      zoom_start=10,\n",
        "                      tile='cartodbpositron')\n",
        "\n",
        "folium.GeoJson(ciudad).add_to(mapa_rio)\n",
        "mapa_rio"
      ],
      "metadata": {
        "id": "WjFeOz7qeDKc"
      },
      "execution_count": null,
      "outputs": []
    },
    {
      "cell_type": "markdown",
      "source": [
        "#**CLASE 2**"
      ],
      "metadata": {
        "id": "8fPDAlXclbIO"
      }
    },
    {
      "cell_type": "code",
      "source": [],
      "metadata": {
        "id": "KllgE4jSTSmr"
      },
      "execution_count": null,
      "outputs": []
    },
    {
      "cell_type": "markdown",
      "source": [
        "#**CLASE 3**"
      ],
      "metadata": {
        "id": "tFzmoCG6FyKM"
      }
    },
    {
      "cell_type": "code",
      "source": [],
      "metadata": {
        "id": "DxuoWiqFTC22"
      },
      "execution_count": null,
      "outputs": []
    },
    {
      "cell_type": "markdown",
      "source": [
        "https://lab.artlung.com/font-awesome-sample/"
      ],
      "metadata": {
        "id": "_rzZaT4pKAh2"
      }
    },
    {
      "cell_type": "markdown",
      "source": [
        "# **CLASE 4**"
      ],
      "metadata": {
        "id": "xDPj043jvyRe"
      }
    },
    {
      "cell_type": "code",
      "source": [],
      "metadata": {
        "id": "x6vcbIBWS256"
      },
      "execution_count": null,
      "outputs": []
    }
  ]
}