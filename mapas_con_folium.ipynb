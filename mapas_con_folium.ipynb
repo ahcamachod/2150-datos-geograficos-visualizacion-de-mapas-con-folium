{
  "nbformat": 4,
  "nbformat_minor": 0,
  "metadata": {
    "colab": {
      "provenance": [],
      "authorship_tag": "ABX9TyOaZ/jXbYOs6zaJL69GBdG9",
      "include_colab_link": true
    },
    "kernelspec": {
      "name": "python3",
      "display_name": "Python 3"
    },
    "language_info": {
      "name": "python"
    }
  },
  "cells": [
    {
      "cell_type": "markdown",
      "metadata": {
        "id": "view-in-github",
        "colab_type": "text"
      },
      "source": [
        "<a href=\"https://colab.research.google.com/github/ahcamachod/2150-datos-geograficos-visualizacion-de-mapas-con-folium/blob/main/mapas_con_folium.ipynb\" target=\"_parent\"><img src=\"https://colab.research.google.com/assets/colab-badge.svg\" alt=\"Open In Colab\"/></a>"
      ]
    },
    {
      "cell_type": "markdown",
      "source": [
        "#**CLASE 1**"
      ],
      "metadata": {
        "id": "nuIW-VLpGLpJ"
      }
    },
    {
      "cell_type": "code",
      "source": [],
      "metadata": {
        "id": "GAEGPoN2ThDH"
      },
      "execution_count": null,
      "outputs": []
    },
    {
      "cell_type": "markdown",
      "source": [
        "https://leaflet-extras.github.io/leaflet-providers/preview/"
      ],
      "metadata": {
        "id": "bI9QL9h9dFxR"
      }
    },
    {
      "cell_type": "markdown",
      "source": [
        "#**CLASE 2**"
      ],
      "metadata": {
        "id": "8fPDAlXclbIO"
      }
    },
    {
      "cell_type": "code",
      "source": [],
      "metadata": {
        "id": "KllgE4jSTSmr"
      },
      "execution_count": null,
      "outputs": []
    },
    {
      "cell_type": "markdown",
      "source": [
        "#**CLASE 3**"
      ],
      "metadata": {
        "id": "tFzmoCG6FyKM"
      }
    },
    {
      "cell_type": "code",
      "source": [],
      "metadata": {
        "id": "DxuoWiqFTC22"
      },
      "execution_count": null,
      "outputs": []
    },
    {
      "cell_type": "markdown",
      "source": [
        "https://lab.artlung.com/font-awesome-sample/"
      ],
      "metadata": {
        "id": "_rzZaT4pKAh2"
      }
    },
    {
      "cell_type": "markdown",
      "source": [
        "# **CLASE 4**"
      ],
      "metadata": {
        "id": "xDPj043jvyRe"
      }
    },
    {
      "cell_type": "code",
      "source": [],
      "metadata": {
        "id": "x6vcbIBWS256"
      },
      "execution_count": null,
      "outputs": []
    }
  ]
}