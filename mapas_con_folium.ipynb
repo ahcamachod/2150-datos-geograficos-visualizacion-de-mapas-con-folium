{
  "nbformat": 4,
  "nbformat_minor": 0,
  "metadata": {
    "colab": {
      "provenance": [],
      "authorship_tag": "ABX9TyOYfzGGTjhkpvv8RZkVqxhF",
      "include_colab_link": true
    },
    "kernelspec": {
      "name": "python3",
      "display_name": "Python 3"
    },
    "language_info": {
      "name": "python"
    }
  },
  "cells": [
    {
      "cell_type": "markdown",
      "metadata": {
        "id": "view-in-github",
        "colab_type": "text"
      },
      "source": [
        "<a href=\"https://colab.research.google.com/github/ahcamachod/2150-datos-geograficos-visualizacion-de-mapas-con-folium/blob/aula-4/mapas_con_folium.ipynb\" target=\"_parent\"><img src=\"https://colab.research.google.com/assets/colab-badge.svg\" alt=\"Open In Colab\"/></a>"
      ]
    },
    {
      "cell_type": "markdown",
      "source": [
        "#**CLASE 1**"
      ],
      "metadata": {
        "id": "nuIW-VLpGLpJ"
      }
    },
    {
      "cell_type": "code",
      "source": [
        "!pip install geopandas"
      ],
      "metadata": {
        "id": "XlVDGw2dLjeM"
      },
      "execution_count": null,
      "outputs": []
    },
    {
      "cell_type": "code",
      "source": [
        "import geopandas as gpd\n",
        "\n",
        "gpd.__version__"
      ],
      "metadata": {
        "id": "Gj-q0S96MTuK"
      },
      "execution_count": null,
      "outputs": []
    },
    {
      "cell_type": "code",
      "source": [
        "rj = gpd.read_file('/content/33SEE250GC_SIR.shp')\n",
        "rj.head()"
      ],
      "metadata": {
        "id": "cktFJrcrMccC"
      },
      "execution_count": null,
      "outputs": []
    },
    {
      "cell_type": "code",
      "source": [
        "rj.plot();"
      ],
      "metadata": {
        "id": "rd1EH3PMM8KD"
      },
      "execution_count": null,
      "outputs": []
    },
    {
      "cell_type": "code",
      "source": [
        "rj = rj[rj['NM_MUNICIP']=='RIO DE JANEIRO']\n",
        "rj.plot();"
      ],
      "metadata": {
        "id": "9c_7X2itNWRe"
      },
      "execution_count": null,
      "outputs": []
    },
    {
      "cell_type": "code",
      "source": [
        "import folium"
      ],
      "metadata": {
        "id": "8N84Eq0sVNUi"
      },
      "execution_count": null,
      "outputs": []
    },
    {
      "cell_type": "code",
      "source": [
        "mapa_rio = folium.Map(location=[-22.95,-43.4],\n",
        "                      zoom_start=10,\n",
        "                      tile='OpenStreetMap')\n",
        "mapa_rio"
      ],
      "metadata": {
        "id": "QDLTOrdsY-zs"
      },
      "execution_count": null,
      "outputs": []
    },
    {
      "cell_type": "code",
      "source": [
        "mapa_rio = folium.Map(location=[-22.95,-43.4],\n",
        "                      zoom_start=10,\n",
        "                      tile='OpenStreetMap')\n",
        "\n",
        "folium.TileLayer('cartodbpositron',name='Positron').add_to(mapa_rio)\n",
        "folium.TileLayer('cartodbdark_matter',name='Dark').add_to(mapa_rio)\n",
        "folium.TileLayer('https://{s}.tile-cyclosm.openstreetmap.fr/cyclosm/{z}/{x}/{y}.png',name='CyclOSM',\n",
        "                 attr='<a href=\"https://github.com/cyclosm/cyclosm-cartocss-style/releases\" title=\"CyclOSM - Open Bicycle render\">CyclOSM</a> | Map data: &copy; <a href=\"https://www.openstreetmap.org/copyright\">OpenStreetMap</a> contributors').add_to(mapa_rio)\n",
        "\n",
        "folium.LayerControl().add_to(mapa_rio)\n",
        "\n",
        "mapa_rio.save('mapa_rio.html')\n",
        "\n",
        "mapa_rio"
      ],
      "metadata": {
        "id": "CpFER_YcZYnU"
      },
      "execution_count": null,
      "outputs": []
    },
    {
      "cell_type": "markdown",
      "source": [
        "https://leaflet-extras.github.io/leaflet-providers/preview/"
      ],
      "metadata": {
        "id": "bI9QL9h9dFxR"
      }
    },
    {
      "cell_type": "code",
      "source": [
        "barrios = rj.dissolve(by='NM_BAIRRO')\n",
        "barrios"
      ],
      "metadata": {
        "id": "JC2w4qazcPUK"
      },
      "execution_count": null,
      "outputs": []
    },
    {
      "cell_type": "code",
      "source": [
        "mapa_rio = folium.Map(location=[-22.95,-43.4],\n",
        "                      zoom_start=10,\n",
        "                      tile='cartodbpositron')\n",
        "\n",
        "folium.GeoJson(barrios).add_to(mapa_rio)\n",
        "mapa_rio"
      ],
      "metadata": {
        "id": "lB6G9Iezdmzr"
      },
      "execution_count": null,
      "outputs": []
    },
    {
      "cell_type": "code",
      "source": [
        "ciudad = rj.dissolve(by='NM_MUNICIP')\n",
        "mapa_rio = folium.Map(location=[-22.95,-43.4],\n",
        "                      zoom_start=10,\n",
        "                      tile='cartodbpositron')\n",
        "\n",
        "folium.GeoJson(ciudad).add_to(mapa_rio)\n",
        "mapa_rio"
      ],
      "metadata": {
        "id": "WjFeOz7qeDKc"
      },
      "execution_count": null,
      "outputs": []
    },
    {
      "cell_type": "markdown",
      "source": [
        "#**CLASE 2**"
      ],
      "metadata": {
        "id": "8fPDAlXclbIO"
      }
    },
    {
      "cell_type": "code",
      "source": [
        "import pandas as pd\n",
        "\n",
        "inmuebles = pd.read_csv('/content/datos.csv',sep='\\t')\n",
        "inmuebles"
      ],
      "metadata": {
        "id": "Ot6DEa-5juzD"
      },
      "execution_count": null,
      "outputs": []
    },
    {
      "cell_type": "code",
      "source": [
        "inmuebles = gpd.GeoDataFrame(inmuebles, geometry=gpd.points_from_xy(inmuebles['Longitud'],inmuebles['Latitud']))\n",
        "inmuebles"
      ],
      "metadata": {
        "id": "ZH5KOOEjmA7s"
      },
      "execution_count": null,
      "outputs": []
    },
    {
      "cell_type": "code",
      "source": [
        "base = ciudad.plot()\n",
        "inmuebles.plot(ax=base, alpha=0.2)"
      ],
      "metadata": {
        "id": "m0YsqQWfms7N"
      },
      "execution_count": null,
      "outputs": []
    },
    {
      "cell_type": "code",
      "source": [
        "ciudad['geometry'].iloc[0]"
      ],
      "metadata": {
        "id": "KnB8OcY1nAET"
      },
      "execution_count": null,
      "outputs": []
    },
    {
      "cell_type": "code",
      "source": [
        "inmuebles['geometry'].within(ciudad['geometry'].iloc[0])"
      ],
      "metadata": {
        "id": "d9_oNGQ1nPLj"
      },
      "execution_count": null,
      "outputs": []
    },
    {
      "cell_type": "code",
      "source": [
        "inmuebles = inmuebles[inmuebles['geometry'].within(ciudad['geometry'].iloc[0])]"
      ],
      "metadata": {
        "id": "mxGJsttVnbkc"
      },
      "execution_count": null,
      "outputs": []
    },
    {
      "cell_type": "code",
      "source": [
        "base = ciudad.plot(color='white',edgecolor='black',figsize=(12,8))\n",
        "inmuebles.plot(ax=base,alpha=0.2)"
      ],
      "metadata": {
        "id": "OPlBZC7PoFVM"
      },
      "execution_count": null,
      "outputs": []
    },
    {
      "cell_type": "code",
      "source": [
        "from folium.plugins import HeatMap"
      ],
      "metadata": {
        "id": "Rwg-rTvvqaQr"
      },
      "execution_count": null,
      "outputs": []
    },
    {
      "cell_type": "code",
      "source": [
        "mapa_rio = folium.Map(location=[inmuebles['Latitud'].mean(),inmuebles['Longitud'].mean()],\n",
        "                      zoom_start=10,\n",
        "                      tile='cartodbpositron')\n",
        "HeatMap(data=inmuebles[['Latitud','Longitud']],name='Mapa de Calor').add_to(mapa_rio)\n",
        "\n",
        "mapa_rio"
      ],
      "metadata": {
        "id": "6e2hDy6KrZck"
      },
      "execution_count": null,
      "outputs": []
    },
    {
      "cell_type": "code",
      "source": [
        "mapa_rio = folium.Map(location=[inmuebles['Latitud'].mean(),inmuebles['Longitud'].mean()],\n",
        "                      zoom_start=10,\n",
        "                      tile='cartodbpositron')\n",
        "HeatMap(data=inmuebles[['Latitud','Longitud']],name='Mapa de Calor').add_to(mapa_rio)\n",
        "folium.GeoJson(ciudad, name='Río de Janeiro').add_to(mapa_rio)\n",
        "\n",
        "folium.LayerControl().add_to(mapa_rio)\n",
        "\n",
        "mapa_rio"
      ],
      "metadata": {
        "id": "_MSe4fcYr_o1"
      },
      "execution_count": null,
      "outputs": []
    },
    {
      "cell_type": "code",
      "source": [
        "mapa_rio = folium.Map(location=[inmuebles['Latitud'].mean(),inmuebles['Longitud'].mean()],\n",
        "                      zoom_start=10,\n",
        "                      tile='cartodbpositron')\n",
        "\n",
        "estilo_claro = {'fillOpacity':0, 'color':'#ffffff', 'weight':0.5}\n",
        "\n",
        "HeatMap(data=inmuebles[['Latitud','Longitud']],name='Mapa de Calor',radius=20).add_to(mapa_rio)\n",
        "folium.GeoJson(ciudad, name='Río de Janeiro',style_function= lambda x: estilo_claro).add_to(mapa_rio)\n",
        "\n",
        "folium.TileLayer('cartodbdark_matter',name='Dark').add_to(mapa_rio)\n",
        "\n",
        "folium.LayerControl().add_to(mapa_rio)\n",
        "\n",
        "mapa_rio"
      ],
      "metadata": {
        "id": "HA5G0mmw4dtN"
      },
      "execution_count": null,
      "outputs": []
    },
    {
      "cell_type": "code",
      "source": [
        "mapa_rio = folium.Map(location=[inmuebles['Latitud'].mean(),inmuebles['Longitud'].mean()],\n",
        "                      zoom_start=10,\n",
        "                      tile='cartodbpositron')\n",
        "\n",
        "estilo_claro = {'fillOpacity':0, 'color':'#ffffff', 'weight':0.5}\n",
        "\n",
        "HeatMap(data=inmuebles[['Latitud','Longitud']],name='Mapa de Calor',radius=20).add_to(mapa_rio)\n",
        "folium.GeoJson(barrios, name='Río de Janeiro',style_function= lambda x: estilo_claro).add_to(mapa_rio)\n",
        "\n",
        "folium.TileLayer('cartodbdark_matter',name='Dark').add_to(mapa_rio)\n",
        "\n",
        "estilo_oscuro = {'fillOpacity':0, 'color':'#000000', 'weight':0.5}\n",
        "\n",
        "HeatMap(data=inmuebles[['Latitud','Longitud']],name='Mapa de Calor',radius=20,gradient={'0':'grey','1':'red'}, show=False).add_to(mapa_rio)\n",
        "folium.GeoJson(barrios, name='Río de Janeiro',style_function= lambda x: estilo_oscuro, show=False).add_to(mapa_rio)\n",
        "\n",
        "folium.TileLayer('cartodbpositron',name='Positron').add_to(mapa_rio)\n",
        "\n",
        "folium.LayerControl().add_to(mapa_rio)\n",
        "\n",
        "mapa_rio"
      ],
      "metadata": {
        "id": "h7JfsecY7CTN"
      },
      "execution_count": null,
      "outputs": []
    },
    {
      "cell_type": "code",
      "source": [
        "barrios.head()"
      ],
      "metadata": {
        "id": "Enk5671kCCvO"
      },
      "execution_count": null,
      "outputs": []
    },
    {
      "cell_type": "code",
      "source": [
        "barrios.crs"
      ],
      "metadata": {
        "id": "w3Ix6wSQChCc"
      },
      "execution_count": null,
      "outputs": []
    },
    {
      "cell_type": "code",
      "source": [
        "mapa_rio = folium.Map(location=[inmuebles['Latitud'].mean(),inmuebles['Longitud'].mean()],\n",
        "                      zoom_start=10,\n",
        "                      tile='cartodbpositron')\n",
        "\n",
        "estilo_claro = {'fillOpacity':0, 'color':'#ffffff', 'weight':0.5}\n",
        "\n",
        "HeatMap(data=inmuebles[['Latitud','Longitud']],name='Mapa de Calor',radius=20).add_to(mapa_rio)\n",
        "\n",
        "for indice,fila in barrios.iterrows():\n",
        "  barrio = gpd.GeoDataFrame(pd.DataFrame(fila).T, geometry='geometry',crs='EPSG:4674')\n",
        "  folium.GeoJson(barrio, name= barrio.index[0],style_function= lambda x: estilo_claro, tooltip=barrio.index[0]).add_to(mapa_rio)\n",
        "\n",
        "folium.TileLayer('cartodbdark_matter',name='Dark').add_to(mapa_rio)\n",
        "\n",
        "folium.LayerControl().add_to(mapa_rio)\n",
        "\n",
        "mapa_rio.save('mapa_de_calor_rio.html')\n",
        "\n",
        "mapa_rio"
      ],
      "metadata": {
        "id": "Nu87urpYCsft"
      },
      "execution_count": null,
      "outputs": []
    },
    {
      "cell_type": "markdown",
      "source": [
        "#**CLASE 3**"
      ],
      "metadata": {
        "id": "tFzmoCG6FyKM"
      }
    },
    {
      "cell_type": "code",
      "source": [
        "mapa_rio = folium.Map(location=[inmuebles['Latitud'].mean(),inmuebles['Longitud'].mean()],\n",
        "                      zoom_start=10,\n",
        "                      tile='cartodbpositron')\n",
        "\n",
        "folium.TileLayer('cartodbpositron',name='Positron').add_to(mapa_rio)\n",
        "\n",
        "muestra = inmuebles.sample(500)\n",
        "\n",
        "muestra.apply(lambda x: folium.Marker(location=[x['Latitud'],x['Longitud']]).add_to(mapa_rio),axis=1)\n",
        "\n",
        "folium.GeoJson(ciudad, name='Río de Janeiro').add_to(mapa_rio)\n",
        "\n",
        "folium.LayerControl().add_to(mapa_rio)\n",
        "\n",
        "mapa_rio"
      ],
      "metadata": {
        "id": "wdrTguNYDqCl"
      },
      "execution_count": null,
      "outputs": []
    },
    {
      "cell_type": "markdown",
      "source": [
        "https://lab.artlung.com/font-awesome-sample/"
      ],
      "metadata": {
        "id": "_rzZaT4pKAh2"
      }
    },
    {
      "cell_type": "code",
      "source": [
        "inmuebles.describe()"
      ],
      "metadata": {
        "id": "zwNiWzMaODGd"
      },
      "execution_count": null,
      "outputs": []
    },
    {
      "cell_type": "code",
      "source": [
        "inmuebles.insert(0,'Color', pd.qcut(inmuebles['Valor'],q=[0,0.5,0.75,1],labels=['green','orange','red']))\n",
        "inmuebles"
      ],
      "metadata": {
        "id": "dwZUSiV1Oh0W"
      },
      "execution_count": null,
      "outputs": []
    },
    {
      "cell_type": "code",
      "source": [
        "mapa_rio = folium.Map(location=[inmuebles['Latitud'].mean(),inmuebles['Longitud'].mean()],\n",
        "                      zoom_start=10,\n",
        "                      tile='cartodbpositron')\n",
        "\n",
        "folium.TileLayer('cartodbpositron',name='Positron').add_to(mapa_rio)\n",
        "\n",
        "muestra = inmuebles.sample(500)\n",
        "\n",
        "muestra.apply(lambda x: folium.Marker(location=[x['Latitud'],x['Longitud']],\n",
        "                                      icon= folium.Icon(color=x['Color'], icon='fa-home', prefix='fa')).add_to(mapa_rio),axis=1)\n",
        "\n",
        "folium.GeoJson(ciudad, name='Río de Janeiro').add_to(mapa_rio)\n",
        "\n",
        "folium.LayerControl().add_to(mapa_rio)\n",
        "\n",
        "mapa_rio"
      ],
      "metadata": {
        "id": "GcDgMTtxPIq8"
      },
      "execution_count": null,
      "outputs": []
    },
    {
      "cell_type": "code",
      "source": [
        "mapa_rio = folium.Map(location=[inmuebles['Latitud'].mean(),inmuebles['Longitud'].mean()],\n",
        "                      zoom_start=10,\n",
        "                      tile='cartodbpositron')\n",
        "\n",
        "folium.TileLayer('cartodbpositron',name='Positron').add_to(mapa_rio)\n",
        "\n",
        "estilo = {'fillOpacity':0, 'color':'#000000', 'weight':0.5}\n",
        "\n",
        "for indice,fila in barrios.iterrows():\n",
        "  barrio = gpd.GeoDataFrame(pd.DataFrame(fila).T, geometry='geometry',crs='EPSG:4674')\n",
        "  folium.GeoJson(barrio, name= barrio.index[0],style_function= lambda x: estilo, tooltip=barrio.index[0]).add_to(mapa_rio)\n",
        "\n",
        "muestra = inmuebles.sample(500)\n",
        "\n",
        "muestra.apply(lambda x: folium.Marker(location=[x['Latitud'],x['Longitud']],\n",
        "                                      icon= folium.Icon(color=x['Color'], icon='fa-home', prefix='fa')).add_to(mapa_rio),axis=1)\n",
        "\n",
        "folium.LayerControl().add_to(mapa_rio)\n",
        "\n",
        "mapa_rio"
      ],
      "metadata": {
        "id": "Nibuvwz8TBPe"
      },
      "execution_count": null,
      "outputs": []
    },
    {
      "cell_type": "code",
      "source": [
        "mapa_rio = folium.Map(location=[inmuebles['Latitud'].mean(),inmuebles['Longitud'].mean()],\n",
        "                      zoom_start=10,\n",
        "                      tile='cartodbpositron')\n",
        "\n",
        "folium.TileLayer('cartodbpositron',name='Positron').add_to(mapa_rio)\n",
        "\n",
        "estilo = {'fillOpacity':0, 'color':'#000000', 'weight':0.5}\n",
        "\n",
        "for indice,fila in barrios.iterrows():\n",
        "  barrio = gpd.GeoDataFrame(pd.DataFrame(fila).T, geometry='geometry',crs='EPSG:4674')\n",
        "  folium.GeoJson(barrio, name= barrio.index[0],style_function= lambda x: estilo, tooltip=barrio.index[0]).add_to(mapa_rio)\n",
        "\n",
        "muestra = inmuebles.sample(500)\n",
        "\n",
        "muestra.apply(lambda x: folium.Marker(location=[x['Latitud'],x['Longitud']],\n",
        "                                      icon= folium.Icon(color=x['Color'], icon='fa-home', prefix='fa'),\n",
        "                                      popup = f\"Área: {x['Area']}m²\\nValor: R${x['Valor']}\").add_to(mapa_rio),axis=1)\n",
        "\n",
        "folium.LayerControl().add_to(mapa_rio)\n",
        "\n",
        "mapa_rio"
      ],
      "metadata": {
        "id": "4VwaUs9CTYzp"
      },
      "execution_count": null,
      "outputs": []
    },
    {
      "cell_type": "code",
      "source": [
        "mapa_rio = folium.Map(location=[inmuebles['Latitud'].mean(),inmuebles['Longitud'].mean()],\n",
        "                      zoom_start=10,\n",
        "                      tile='cartodbpositron')\n",
        "\n",
        "folium.TileLayer('cartodbpositron',name='Positron').add_to(mapa_rio)\n",
        "\n",
        "estilo = {'fillOpacity':0, 'color':'#000000', 'weight':0.5}\n",
        "\n",
        "for indice,fila in barrios.iterrows():\n",
        "  barrio = gpd.GeoDataFrame(pd.DataFrame(fila).T, geometry='geometry',crs='EPSG:4674')\n",
        "  folium.GeoJson(barrio, name= barrio.index[0],style_function= lambda x: estilo, tooltip=barrio.index[0]).add_to(mapa_rio)\n",
        "\n",
        "muestra = inmuebles.sample(500)\n",
        "\n",
        "muestra.apply(lambda x: folium.Marker(location=[x['Latitud'],x['Longitud']],\n",
        "                                      icon= folium.Icon(color=x['Color'], icon='fa-home', prefix='fa'),\n",
        "                                      popup = folium.Popup(f\"\"\"\n",
        "                                                              <b>Barrio:</b> {x['Barrio']}<br>\n",
        "                                                              <b>Área:</b> {x['Area']}m²<br>\n",
        "                                                              <b>Valor:</b> R${x['Valor']}<br>\n",
        "                                                              <b>Habitaciones:</b> {x['Habitaciones']}\n",
        "                                                              \"\"\",max_width=200,sticky=True)).add_to(mapa_rio),axis=1)\n",
        "\n",
        "folium.LayerControl().add_to(mapa_rio)\n",
        "\n",
        "mapa_rio"
      ],
      "metadata": {
        "id": "HJ4p3h32ieWk"
      },
      "execution_count": null,
      "outputs": []
    },
    {
      "cell_type": "code",
      "source": [
        "from folium.plugins import FastMarkerCluster"
      ],
      "metadata": {
        "id": "l-0WxWPOoVfc"
      },
      "execution_count": null,
      "outputs": []
    },
    {
      "cell_type": "code",
      "source": [
        "mapa_rio = folium.Map(location=[inmuebles['Latitud'].mean(),inmuebles['Longitud'].mean()],\n",
        "                      zoom_start=10,\n",
        "                      tile='cartodbpositron')\n",
        "\n",
        "folium.TileLayer('cartodbpositron',name='Positron').add_to(mapa_rio)\n",
        "\n",
        "estilo = {'fillOpacity':0, 'color':'#000000', 'weight':0.5}\n",
        "\n",
        "for indice,fila in barrios.iterrows():\n",
        "  barrio = gpd.GeoDataFrame(pd.DataFrame(fila).T, geometry='geometry',crs='EPSG:4674')\n",
        "  folium.GeoJson(barrio, name= barrio.index[0],style_function= lambda x: estilo, tooltip=barrio.index[0]).add_to(mapa_rio)\n",
        "\n",
        "cluster = FastMarkerCluster(inmuebles[['Latitud','Longitud']])\n",
        "\n",
        "cluster.add_to(mapa_rio)\n",
        "\n",
        "folium.LayerControl().add_to(mapa_rio)\n",
        "\n",
        "mapa_rio"
      ],
      "metadata": {
        "id": "Rl2A0t32qw-j"
      },
      "execution_count": null,
      "outputs": []
    },
    {
      "cell_type": "code",
      "source": [
        "from folium.plugins import MarkerCluster"
      ],
      "metadata": {
        "id": "j3Yj149_q_AH"
      },
      "execution_count": null,
      "outputs": []
    },
    {
      "cell_type": "code",
      "source": [
        "mapa_rio = folium.Map(location=[inmuebles['Latitud'].mean(),inmuebles['Longitud'].mean()],\n",
        "                      zoom_start=10,\n",
        "                      tile='cartodbpositron')\n",
        "\n",
        "folium.TileLayer('cartodbpositron',name='Positron').add_to(mapa_rio)\n",
        "\n",
        "estilo = {'fillOpacity':0, 'color':'#000000', 'weight':0.5}\n",
        "\n",
        "for indice,fila in barrios.iterrows():\n",
        "  barrio = gpd.GeoDataFrame(pd.DataFrame(fila).T, geometry='geometry',crs='EPSG:4674')\n",
        "  folium.GeoJson(barrio, name= barrio.index[0],style_function= lambda x: estilo, tooltip=barrio.index[0]).add_to(mapa_rio)\n",
        "\n",
        "cluster = MarkerCluster()\n",
        "\n",
        "inmuebles.apply(lambda x: folium.Marker(location=[x['Latitud'],x['Longitud']],\n",
        "                                      icon= folium.Icon(color=x['Color'], icon='fa-home', prefix='fa'),\n",
        "                                      popup = folium.Popup(f\"\"\"\n",
        "                                                              <b>Barrio:</b> {x['Barrio']}<br>\n",
        "                                                              <b>Área:</b> {x['Area']}m²<br>\n",
        "                                                              <b>Valor:</b> R${x['Valor']}<br>\n",
        "                                                              <b>Habitaciones:</b> {x['Habitaciones']}\n",
        "                                                              \"\"\",max_width=200,sticky=True)).add_to(cluster),axis=1)\n",
        "\n",
        "cluster.add_to(mapa_rio)\n",
        "\n",
        "folium.LayerControl().add_to(mapa_rio)\n",
        "\n",
        "mapa_rio"
      ],
      "metadata": {
        "id": "i_9NH5JFrVKq"
      },
      "execution_count": null,
      "outputs": []
    },
    {
      "cell_type": "markdown",
      "source": [
        "# **CLASE 4**"
      ],
      "metadata": {
        "id": "xDPj043jvyRe"
      }
    },
    {
      "cell_type": "code",
      "source": [],
      "metadata": {
        "id": "x6vcbIBWS256"
      },
      "execution_count": null,
      "outputs": []
    }
  ]
}